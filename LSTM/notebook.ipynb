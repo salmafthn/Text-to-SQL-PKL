{
 "cells": [
  {
   "cell_type": "markdown",
   "id": "9bfa769c",
   "metadata": {},
   "source": [
    "# Import Library"
   ]
  },
  {
   "cell_type": "code",
   "execution_count": null,
   "id": "4c004e76",
   "metadata": {},
   "outputs": [],
   "source": [
    "import pandas as pd\n",
    "import numpy as np\n",
    "import matplotlib.pyplot as plt\n",
    "import re\n",
    "import string\n",
    "import joblib\n",
    "from sklearn.model_selection import train_test_split \n",
    "from sklearn.preprocessing import LabelEncoder\n",
    "from tensorflow.keras.models import Sequential\n",
    "from tensorflow.keras.layers import Embedding, LSTM, Dense, Dropout, Bidirectional\n",
    "from tensorflow.keras.preprocessing.text import Tokenizer\n",
    "from tensorflow.keras.preprocessing.sequence import pad_sequences\n",
    "from sklearn.preprocessing import LabelEncoder\n",
    "from sklearn.metrics import classification_report, confusion_matrix"
   ]
  },
  {
   "cell_type": "markdown",
   "id": "f68f2684",
   "metadata": {},
   "source": [
    "# Data Loading"
   ]
  },
  {
   "cell_type": "code",
   "execution_count": 2,
   "id": "242073ff",
   "metadata": {},
   "outputs": [
    {
     "data": {
      "text/html": [
       "<div>\n",
       "<style scoped>\n",
       "    .dataframe tbody tr th:only-of-type {\n",
       "        vertical-align: middle;\n",
       "    }\n",
       "\n",
       "    .dataframe tbody tr th {\n",
       "        vertical-align: top;\n",
       "    }\n",
       "\n",
       "    .dataframe thead th {\n",
       "        text-align: right;\n",
       "    }\n",
       "</style>\n",
       "<table border=\"1\" class=\"dataframe\">\n",
       "  <thead>\n",
       "    <tr style=\"text-align: right;\">\n",
       "      <th></th>\n",
       "      <th>Kalimat Pengguna</th>\n",
       "      <th>Intent</th>\n",
       "    </tr>\n",
       "  </thead>\n",
       "  <tbody>\n",
       "    <tr>\n",
       "      <th>0</th>\n",
       "      <td>Tampilkan semua data anak usia di bawah lima t...</td>\n",
       "      <td>search_data</td>\n",
       "    </tr>\n",
       "    <tr>\n",
       "      <th>1</th>\n",
       "      <td>Berapa jumlah keluarga yang sudah terdaftar?</td>\n",
       "      <td>aggregate_query</td>\n",
       "    </tr>\n",
       "    <tr>\n",
       "      <th>2</th>\n",
       "      <td>Apa itu kartu KIA?</td>\n",
       "      <td>faq_general</td>\n",
       "    </tr>\n",
       "    <tr>\n",
       "      <th>3</th>\n",
       "      <td>Jadwal kegiatan kesehatan bulan ini apa saja?</td>\n",
       "      <td>external_event_query</td>\n",
       "    </tr>\n",
       "    <tr>\n",
       "      <th>4</th>\n",
       "      <td>Cek nama ibu yang punya anak lebih dari dua.</td>\n",
       "      <td>search_data</td>\n",
       "    </tr>\n",
       "    <tr>\n",
       "      <th>...</th>\n",
       "      <td>...</td>\n",
       "      <td>...</td>\n",
       "    </tr>\n",
       "    <tr>\n",
       "      <th>95</th>\n",
       "      <td>Kapan ada penyuluhan gizi lagi?</td>\n",
       "      <td>external_event_query</td>\n",
       "    </tr>\n",
       "    <tr>\n",
       "      <th>96</th>\n",
       "      <td>Tampilkan warga dengan status ibu hamil.</td>\n",
       "      <td>search_data</td>\n",
       "    </tr>\n",
       "    <tr>\n",
       "      <th>97</th>\n",
       "      <td>Jumlah keluarga miskin tahun ini berapa?</td>\n",
       "      <td>aggregate_query</td>\n",
       "    </tr>\n",
       "    <tr>\n",
       "      <th>98</th>\n",
       "      <td>Apa yang dimaksud dengan kader posyandu?</td>\n",
       "      <td>faq_general</td>\n",
       "    </tr>\n",
       "    <tr>\n",
       "      <th>99</th>\n",
       "      <td>Cek kegiatan komunitas bulan depan.</td>\n",
       "      <td>external_event_query</td>\n",
       "    </tr>\n",
       "  </tbody>\n",
       "</table>\n",
       "<p>100 rows × 2 columns</p>\n",
       "</div>"
      ],
      "text/plain": [
       "                                     Kalimat Pengguna                Intent\n",
       "0   Tampilkan semua data anak usia di bawah lima t...           search_data\n",
       "1        Berapa jumlah keluarga yang sudah terdaftar?       aggregate_query\n",
       "2                                  Apa itu kartu KIA?           faq_general\n",
       "3       Jadwal kegiatan kesehatan bulan ini apa saja?  external_event_query\n",
       "4        Cek nama ibu yang punya anak lebih dari dua.           search_data\n",
       "..                                                ...                   ...\n",
       "95                    Kapan ada penyuluhan gizi lagi?  external_event_query\n",
       "96           Tampilkan warga dengan status ibu hamil.           search_data\n",
       "97           Jumlah keluarga miskin tahun ini berapa?       aggregate_query\n",
       "98           Apa yang dimaksud dengan kader posyandu?           faq_general\n",
       "99                Cek kegiatan komunitas bulan depan.  external_event_query\n",
       "\n",
       "[100 rows x 2 columns]"
      ]
     },
     "execution_count": 2,
     "metadata": {},
     "output_type": "execute_result"
    }
   ],
   "source": [
    "df = pd.read_csv(\"dataset_intent_general_100.csv\")\n",
    "df"
   ]
  },
  {
   "cell_type": "markdown",
   "id": "f54733d7",
   "metadata": {},
   "source": [
    "# Data Preprocessing"
   ]
  },
  {
   "cell_type": "code",
   "execution_count": 4,
   "id": "a5524f7d",
   "metadata": {},
   "outputs": [],
   "source": [
    "def cleaningText(text):\n",
    "    text = re.sub(r'@[A-Za-z0-9]', '', text)\n",
    "    text = re.sub(r'#[A-Za-z0-9]', '', text)\n",
    "    text = re.sub(r'RT[\\s]', '', text)\n",
    "    text = re.sub(r\"http\\S+\", '', text)\n",
    "    text = re.sub(r'[0-9]+', '', text)\n",
    "    text = re.sub(r'[^\\w\\s]', '', text)\n",
    "\n",
    "    text = text.replace('\\n', ' ') \n",
    "    text = text.translate(str.maketrans('', '', string.punctuation)) \n",
    "    text = text.strip(' ') \n",
    "    return text\n",
    "\n",
    "def casefoldingText(text):\n",
    "    text = text.lower()\n",
    "    return text\n",
    "\n",
    "custom_stopwords = [\n",
    "    \"yang\", \"di\", \"ke\", \"dari\", \"dengan\", \"dan\", \"atau\", \"untuk\", \"pada\",\n",
    "    \"karena\", \"agar\", \"supaya\", \"bagi\", \"sebagai\", \"oleh\", \"dalam\", \"adalah\",\n",
    "    \"itu\", \"ini\", \"juga\", \"sehingga\", \"bahwa\", \"lebih\", \"kurang\", \"sudah\",\n",
    "    \"masih\", \"telah\", \"akan\", \"tanpa\", \"hingga\", \"antara\", \"setelah\", \"sebelum\",\n",
    "    \"dapat\", \"maupun\", \"jadi\", \"lalu\", \"kemudian\", \"per\", \"selama\", \"meskipun\",\n",
    "    \"setiap\", \"tersebut\", \"seluruh\", \"selain\", \"namun\"\n",
    "]\n",
    "\n",
    "def filteringText(text):\n",
    "    filtered_text = [word for word in text if word not in custom_stopwords]\n",
    "    return filtered_text"
   ]
  },
  {
   "cell_type": "code",
   "execution_count": 5,
   "id": "5d28e8ec",
   "metadata": {},
   "outputs": [],
   "source": [
    "df['text_clean'] = df['Kalimat Pengguna'].apply(cleaningText)\n",
    "df['text_ready'] = df['text_clean'].apply(casefoldingText)"
   ]
  },
  {
   "cell_type": "code",
   "execution_count": 6,
   "id": "6b985545",
   "metadata": {},
   "outputs": [
    {
     "data": {
      "text/html": [
       "<div>\n",
       "<style scoped>\n",
       "    .dataframe tbody tr th:only-of-type {\n",
       "        vertical-align: middle;\n",
       "    }\n",
       "\n",
       "    .dataframe tbody tr th {\n",
       "        vertical-align: top;\n",
       "    }\n",
       "\n",
       "    .dataframe thead th {\n",
       "        text-align: right;\n",
       "    }\n",
       "</style>\n",
       "<table border=\"1\" class=\"dataframe\">\n",
       "  <thead>\n",
       "    <tr style=\"text-align: right;\">\n",
       "      <th></th>\n",
       "      <th>Kalimat Pengguna</th>\n",
       "      <th>Intent</th>\n",
       "      <th>text_clean</th>\n",
       "      <th>text_ready</th>\n",
       "    </tr>\n",
       "  </thead>\n",
       "  <tbody>\n",
       "    <tr>\n",
       "      <th>0</th>\n",
       "      <td>Tampilkan semua data anak usia di bawah lima t...</td>\n",
       "      <td>search_data</td>\n",
       "      <td>Tampilkan semua data anak usia di bawah lima t...</td>\n",
       "      <td>tampilkan semua data anak usia di bawah lima t...</td>\n",
       "    </tr>\n",
       "    <tr>\n",
       "      <th>1</th>\n",
       "      <td>Berapa jumlah keluarga yang sudah terdaftar?</td>\n",
       "      <td>aggregate_query</td>\n",
       "      <td>Berapa jumlah keluarga yang sudah terdaftar</td>\n",
       "      <td>berapa jumlah keluarga yang sudah terdaftar</td>\n",
       "    </tr>\n",
       "    <tr>\n",
       "      <th>2</th>\n",
       "      <td>Apa itu kartu KIA?</td>\n",
       "      <td>faq_general</td>\n",
       "      <td>Apa itu kartu KIA</td>\n",
       "      <td>apa itu kartu kia</td>\n",
       "    </tr>\n",
       "    <tr>\n",
       "      <th>3</th>\n",
       "      <td>Jadwal kegiatan kesehatan bulan ini apa saja?</td>\n",
       "      <td>external_event_query</td>\n",
       "      <td>Jadwal kegiatan kesehatan bulan ini apa saja</td>\n",
       "      <td>jadwal kegiatan kesehatan bulan ini apa saja</td>\n",
       "    </tr>\n",
       "    <tr>\n",
       "      <th>4</th>\n",
       "      <td>Cek nama ibu yang punya anak lebih dari dua.</td>\n",
       "      <td>search_data</td>\n",
       "      <td>Cek nama ibu yang punya anak lebih dari dua</td>\n",
       "      <td>cek nama ibu yang punya anak lebih dari dua</td>\n",
       "    </tr>\n",
       "    <tr>\n",
       "      <th>...</th>\n",
       "      <td>...</td>\n",
       "      <td>...</td>\n",
       "      <td>...</td>\n",
       "      <td>...</td>\n",
       "    </tr>\n",
       "    <tr>\n",
       "      <th>95</th>\n",
       "      <td>Kapan ada penyuluhan gizi lagi?</td>\n",
       "      <td>external_event_query</td>\n",
       "      <td>Kapan ada penyuluhan gizi lagi</td>\n",
       "      <td>kapan ada penyuluhan gizi lagi</td>\n",
       "    </tr>\n",
       "    <tr>\n",
       "      <th>96</th>\n",
       "      <td>Tampilkan warga dengan status ibu hamil.</td>\n",
       "      <td>search_data</td>\n",
       "      <td>Tampilkan warga dengan status ibu hamil</td>\n",
       "      <td>tampilkan warga dengan status ibu hamil</td>\n",
       "    </tr>\n",
       "    <tr>\n",
       "      <th>97</th>\n",
       "      <td>Jumlah keluarga miskin tahun ini berapa?</td>\n",
       "      <td>aggregate_query</td>\n",
       "      <td>Jumlah keluarga miskin tahun ini berapa</td>\n",
       "      <td>jumlah keluarga miskin tahun ini berapa</td>\n",
       "    </tr>\n",
       "    <tr>\n",
       "      <th>98</th>\n",
       "      <td>Apa yang dimaksud dengan kader posyandu?</td>\n",
       "      <td>faq_general</td>\n",
       "      <td>Apa yang dimaksud dengan kader posyandu</td>\n",
       "      <td>apa yang dimaksud dengan kader posyandu</td>\n",
       "    </tr>\n",
       "    <tr>\n",
       "      <th>99</th>\n",
       "      <td>Cek kegiatan komunitas bulan depan.</td>\n",
       "      <td>external_event_query</td>\n",
       "      <td>Cek kegiatan komunitas bulan depan</td>\n",
       "      <td>cek kegiatan komunitas bulan depan</td>\n",
       "    </tr>\n",
       "  </tbody>\n",
       "</table>\n",
       "<p>100 rows × 4 columns</p>\n",
       "</div>"
      ],
      "text/plain": [
       "                                     Kalimat Pengguna                Intent  \\\n",
       "0   Tampilkan semua data anak usia di bawah lima t...           search_data   \n",
       "1        Berapa jumlah keluarga yang sudah terdaftar?       aggregate_query   \n",
       "2                                  Apa itu kartu KIA?           faq_general   \n",
       "3       Jadwal kegiatan kesehatan bulan ini apa saja?  external_event_query   \n",
       "4        Cek nama ibu yang punya anak lebih dari dua.           search_data   \n",
       "..                                                ...                   ...   \n",
       "95                    Kapan ada penyuluhan gizi lagi?  external_event_query   \n",
       "96           Tampilkan warga dengan status ibu hamil.           search_data   \n",
       "97           Jumlah keluarga miskin tahun ini berapa?       aggregate_query   \n",
       "98           Apa yang dimaksud dengan kader posyandu?           faq_general   \n",
       "99                Cek kegiatan komunitas bulan depan.  external_event_query   \n",
       "\n",
       "                                           text_clean  \\\n",
       "0   Tampilkan semua data anak usia di bawah lima t...   \n",
       "1         Berapa jumlah keluarga yang sudah terdaftar   \n",
       "2                                   Apa itu kartu KIA   \n",
       "3        Jadwal kegiatan kesehatan bulan ini apa saja   \n",
       "4         Cek nama ibu yang punya anak lebih dari dua   \n",
       "..                                                ...   \n",
       "95                     Kapan ada penyuluhan gizi lagi   \n",
       "96            Tampilkan warga dengan status ibu hamil   \n",
       "97            Jumlah keluarga miskin tahun ini berapa   \n",
       "98            Apa yang dimaksud dengan kader posyandu   \n",
       "99                 Cek kegiatan komunitas bulan depan   \n",
       "\n",
       "                                           text_ready  \n",
       "0   tampilkan semua data anak usia di bawah lima t...  \n",
       "1         berapa jumlah keluarga yang sudah terdaftar  \n",
       "2                                   apa itu kartu kia  \n",
       "3        jadwal kegiatan kesehatan bulan ini apa saja  \n",
       "4         cek nama ibu yang punya anak lebih dari dua  \n",
       "..                                                ...  \n",
       "95                     kapan ada penyuluhan gizi lagi  \n",
       "96            tampilkan warga dengan status ibu hamil  \n",
       "97            jumlah keluarga miskin tahun ini berapa  \n",
       "98            apa yang dimaksud dengan kader posyandu  \n",
       "99                 cek kegiatan komunitas bulan depan  \n",
       "\n",
       "[100 rows x 4 columns]"
      ]
     },
     "execution_count": 6,
     "metadata": {},
     "output_type": "execute_result"
    }
   ],
   "source": [
    "df"
   ]
  },
  {
   "cell_type": "code",
   "execution_count": 7,
   "id": "28dad0e8",
   "metadata": {},
   "outputs": [
    {
     "data": {
      "image/png": "[encoded data removed]",
      "text/plain": [
       "<Figure size 600x400 with 1 Axes>"
      ]
     },
     "metadata": {},
     "output_type": "display_data"
    }
   ],
   "source": [
    "polarity_counts = df['Intent'].value_counts()\n",
    "\n",
    "plt.figure(figsize=(6, 4))\n",
    "polarity_counts.plot(kind='bar', color=['skyblue', 'salmon'])\n",
    "plt.title('Distribusi Intent')\n",
    "plt.xlabel('Intent')\n",
    "plt.ylabel('Jumlah')\n",
    "plt.xticks(rotation=0)\n",
    "plt.grid(axis='y', linestyle='--', alpha=0.7)\n",
    "plt.tight_layout()\n",
    "plt.show()"
   ]
  },
  {
   "cell_type": "markdown",
   "id": "a0fc0fa3",
   "metadata": {},
   "source": [
    "# Data Splitting"
   ]
  },
  {
   "cell_type": "code",
   "execution_count": null,
   "id": "0de33be5",
   "metadata": {},
   "outputs": [],
   "source": [
    "texts = df['text_ready'].astype(str).tolist()  \n",
    "labels = df['Intent'].tolist()  \n",
    "\n",
    "label_encoder = LabelEncoder()\n",
    "labels = label_encoder.fit_transform(labels)\n",
    "\n",
    "joblib.dump(label_encoder, 'label_encoder.pkl')\n",
    "\n",
    "df['label_encoded'] = labels\n",
    "\n",
    "X_train_texts, X_test_texts, y_train, y_test = train_test_split(\n",
    "    texts, labels, test_size=0.1, random_state=42)"
   ]
  },
  {
   "cell_type": "markdown",
   "id": "90dc5cc7",
   "metadata": {},
   "source": [
    "# Model Training"
   ]
  },
  {
   "cell_type": "code",
   "execution_count": null,
   "id": "0861d758",
   "metadata": {},
   "outputs": [
    {
     "name": "stdout",
     "output_type": "stream",
     "text": [
      "Epoch 1/20\n"
     ]
    },
    {
     "name": "stderr",
     "output_type": "stream",
     "text": [
      "c:\\Users\\ikram\\anaconda3\\Lib\\site-packages\\keras\\src\\layers\\core\\embedding.py:90: UserWarning: Argument `input_length` is deprecated. Just remove it.\n",
      "  warnings.warn(\n"
     ]
    },
    {
     "name": "stdout",
     "output_type": "stream",
     "text": [
      "\u001b[1m2/2\u001b[0m \u001b[32m━━━━━━━━━━━━━━━━━━━━\u001b[0m\u001b[37m\u001b[0m \u001b[1m4s\u001b[0m 508ms/step - accuracy: 0.3190 - loss: 1.3856 - val_accuracy: 0.1000 - val_loss: 1.3801\n",
      "Epoch 2/20\n",
      "\u001b[1m2/2\u001b[0m \u001b[32m━━━━━━━━━━━━━━━━━━━━\u001b[0m\u001b[37m\u001b[0m \u001b[1m0s\u001b[0m 117ms/step - accuracy: 0.3368 - loss: 1.3748 - val_accuracy: 0.3000 - val_loss: 1.3746\n",
      "Epoch 3/20\n",
      "\u001b[1m2/2\u001b[0m \u001b[32m━━━━━━━━━━━━━━━━━━━━\u001b[0m\u001b[37m\u001b[0m \u001b[1m0s\u001b[0m 121ms/step - accuracy: 0.4978 - loss: 1.3584 - val_accuracy: 0.3000 - val_loss: 1.3663\n",
      "Epoch 4/20\n",
      "\u001b[1m2/2\u001b[0m \u001b[32m━━━━━━━━━━━━━━━━━━━━\u001b[0m\u001b[37m\u001b[0m \u001b[1m0s\u001b[0m 121ms/step - accuracy: 0.4303 - loss: 1.3469 - val_accuracy: 0.6000 - val_loss: 1.3495\n",
      "Epoch 5/20\n",
      "\u001b[1m2/2\u001b[0m \u001b[32m━━━━━━━━━━━━━━━━━━━━\u001b[0m\u001b[37m\u001b[0m \u001b[1m0s\u001b[0m 132ms/step - accuracy: 0.5831 - loss: 1.3256 - val_accuracy: 0.6000 - val_loss: 1.3299\n",
      "Epoch 6/20\n",
      "\u001b[1m2/2\u001b[0m \u001b[32m━━━━━━━━━━━━━━━━━━━━\u001b[0m\u001b[37m\u001b[0m \u001b[1m0s\u001b[0m 114ms/step - accuracy: 0.5244 - loss: 1.3135 - val_accuracy: 0.6000 - val_loss: 1.3038\n",
      "Epoch 7/20\n",
      "\u001b[1m2/2\u001b[0m \u001b[32m━━━━━━━━━━━━━━━━━━━━\u001b[0m\u001b[37m\u001b[0m \u001b[1m0s\u001b[0m 114ms/step - accuracy: 0.5601 - loss: 1.2772 - val_accuracy: 0.6000 - val_loss: 1.2775\n",
      "Epoch 8/20\n",
      "\u001b[1m2/2\u001b[0m \u001b[32m━━━━━━━━━━━━━━━━━━━━\u001b[0m\u001b[37m\u001b[0m \u001b[1m0s\u001b[0m 118ms/step - accuracy: 0.5905 - loss: 1.2375 - val_accuracy: 0.6000 - val_loss: 1.2473\n",
      "Epoch 9/20\n",
      "\u001b[1m2/2\u001b[0m \u001b[32m━━━━━━━━━━━━━━━━━━━━\u001b[0m\u001b[37m\u001b[0m \u001b[1m0s\u001b[0m 121ms/step - accuracy: 0.5787 - loss: 1.1715 - val_accuracy: 0.7000 - val_loss: 1.1921\n",
      "Epoch 10/20\n",
      "\u001b[1m2/2\u001b[0m \u001b[32m━━━━━━━━━━━━━━━━━━━━\u001b[0m\u001b[37m\u001b[0m \u001b[1m0s\u001b[0m 120ms/step - accuracy: 0.7263 - loss: 1.1186 - val_accuracy: 1.0000 - val_loss: 1.0999\n",
      "Epoch 11/20\n",
      "\u001b[1m2/2\u001b[0m \u001b[32m━━━━━━━━━━━━━━━━━━━━\u001b[0m\u001b[37m\u001b[0m \u001b[1m0s\u001b[0m 137ms/step - accuracy: 0.8116 - loss: 1.0686 - val_accuracy: 1.0000 - val_loss: 1.0057\n",
      "Epoch 12/20\n",
      "\u001b[1m2/2\u001b[0m \u001b[32m━━━━━━━━━━━━━━━━━━━━\u001b[0m\u001b[37m\u001b[0m \u001b[1m0s\u001b[0m 122ms/step - accuracy: 0.8716 - loss: 0.9663 - val_accuracy: 1.0000 - val_loss: 0.9050\n",
      "Epoch 13/20\n",
      "\u001b[1m2/2\u001b[0m \u001b[32m━━━━━━━━━━━━━━━━━━━━\u001b[0m\u001b[37m\u001b[0m \u001b[1m0s\u001b[0m 202ms/step - accuracy: 0.8747 - loss: 0.8665 - val_accuracy: 0.7000 - val_loss: 0.8664\n",
      "Epoch 14/20\n",
      "\u001b[1m2/2\u001b[0m \u001b[32m━━━━━━━━━━━━━━━━━━━━\u001b[0m\u001b[37m\u001b[0m \u001b[1m0s\u001b[0m 132ms/step - accuracy: 0.5941 - loss: 1.0022 - val_accuracy: 0.6000 - val_loss: 1.0123\n",
      "Epoch 15/20\n",
      "\u001b[1m2/2\u001b[0m \u001b[32m━━━━━━━━━━━━━━━━━━━━\u001b[0m\u001b[37m\u001b[0m \u001b[1m0s\u001b[0m 135ms/step - accuracy: 0.7663 - loss: 0.8679 - val_accuracy: 0.6000 - val_loss: 0.9563\n",
      "Epoch 16/20\n",
      "\u001b[1m2/2\u001b[0m \u001b[32m━━━━━━━━━━━━━━━━━━━━\u001b[0m\u001b[37m\u001b[0m \u001b[1m0s\u001b[0m 134ms/step - accuracy: 0.7811 - loss: 0.8467 - val_accuracy: 0.7000 - val_loss: 0.8113\n",
      "Epoch 17/20\n",
      "\u001b[1m2/2\u001b[0m \u001b[32m━━━━━━━━━━━━━━━━━━━━\u001b[0m\u001b[37m\u001b[0m \u001b[1m0s\u001b[0m 135ms/step - accuracy: 0.9273 - loss: 0.7191 - val_accuracy: 0.9000 - val_loss: 0.6467\n",
      "Epoch 18/20\n",
      "\u001b[1m2/2\u001b[0m \u001b[32m━━━━━━━━━━━━━━━━━━━━\u001b[0m\u001b[37m\u001b[0m \u001b[1m0s\u001b[0m 123ms/step - accuracy: 0.9147 - loss: 0.5609 - val_accuracy: 1.0000 - val_loss: 0.4834\n",
      "Epoch 19/20\n",
      "\u001b[1m2/2\u001b[0m \u001b[32m━━━━━━━━━━━━━━━━━━━━\u001b[0m\u001b[37m\u001b[0m \u001b[1m0s\u001b[0m 116ms/step - accuracy: 0.8108 - loss: 0.5292 - val_accuracy: 1.0000 - val_loss: 0.3802\n",
      "Epoch 20/20\n",
      "\u001b[1m2/2\u001b[0m \u001b[32m━━━━━━━━━━━━━━━━━━━━\u001b[0m\u001b[37m\u001b[0m \u001b[1m0s\u001b[0m 117ms/step - accuracy: 0.8895 - loss: 0.4328 - val_accuracy: 1.0000 - val_loss: 0.2981\n"
     ]
    }
   ],
   "source": [
    "# ========== 1. Data Preprocessing (Tokenization + Padding) ==========\n",
    "max_vocab = 10000\n",
    "max_len = 100\n",
    "\n",
    "# Tokenizer untuk teks\n",
    "tokenizer = Tokenizer(num_words=max_vocab, oov_token=\"<OOV>\")\n",
    "tokenizer.fit_on_texts(X_train_texts)\n",
    "tokenizer_json = tokenizer.to_json()\n",
    "with open(\"tokenizer.json\", \"w\", encoding=\"utf-8\") as f:\n",
    "    f.write(tokenizer_json)\n",
    "\n",
    "# Ubah teks menjadi sequence integer\n",
    "X_train_seq = tokenizer.texts_to_sequences(X_train_texts)\n",
    "X_test_seq = tokenizer.texts_to_sequences(X_test_texts)\n",
    "\n",
    "# Padding sequence agar panjangnya sama\n",
    "X_train = pad_sequences(X_train_seq, maxlen=max_len, padding='post')\n",
    "X_test = pad_sequences(X_test_seq, maxlen=max_len, padding='post')\n",
    "\n",
    "# ========== 2. Label Encoding ==========\n",
    "encoder = LabelEncoder()\n",
    "y_train = encoder.fit_transform(y_train)\n",
    "y_test = encoder.transform(y_test)\n",
    "\n",
    "# ========== 3. Build LSTM Model ==========\n",
    "model = Sequential()\n",
    "model.add(Embedding(input_dim=max_vocab, output_dim=128, input_length=max_len))\n",
    "model.add(Bidirectional(LSTM(128)))\n",
    "model.add(Dropout(0.3))\n",
    "model.add(Dense(64, activation='relu'))\n",
    "model.add(Dropout(0.5))\n",
    "model.add(Dense(4, activation='softmax')) \n",
    "\n",
    "model.compile(loss='sparse_categorical_crossentropy', optimizer='adam', metrics=['accuracy'])\n",
    "\n",
    "# ========== 4. Training ==========\n",
    "history = model.fit(X_train, y_train, epochs=20, batch_size=64, validation_data=(X_test, y_test))"
   ]
  },
  {
   "cell_type": "markdown",
   "id": "a153fc9e",
   "metadata": {},
   "source": [
    "# Model Evaluation"
   ]
  },
  {
   "cell_type": "code",
   "execution_count": 10,
   "id": "d23dd4f7",
   "metadata": {},
   "outputs": [
    {
     "data": {
      "image/png": "[encoded data removed]",
      "text/plain": [
       "<Figure size 640x480 with 1 Axes>"
      ]
     },
     "metadata": {},
     "output_type": "display_data"
    }
   ],
   "source": [
    "acc = history.history['accuracy']\n",
    "val_acc = history.history['val_accuracy']\n",
    "loss = history.history['loss']\n",
    "val_loss = history.history['val_loss']\n",
    "\n",
    "epochs = range(len(acc))\n",
    "\n",
    "plt.plot(epochs, acc, 'r')\n",
    "plt.plot(epochs, val_acc, 'b')\n",
    "plt.title('Training and Validation Accuracy')\n",
    "plt.ylabel('accuracy')\n",
    "plt.xlabel('epoch')\n",
    "plt.legend(['train', 'val'], loc='upper left')\n",
    "plt.show()"
   ]
  },
  {
   "cell_type": "code",
   "execution_count": 11,
   "id": "b0455d78",
   "metadata": {},
   "outputs": [
    {
     "data": {
      "image/png": "[encoded data removed]",
      "text/plain": [
       "<Figure size 640x480 with 1 Axes>"
      ]
     },
     "metadata": {},
     "output_type": "display_data"
    }
   ],
   "source": [
    "plt.plot(epochs, loss, 'r')\n",
    "plt.plot(epochs, val_loss, 'b')\n",
    "plt.ylabel('loss')\n",
    "plt.xlabel('epoch')\n",
    "plt.legend(['train', 'val'], loc='upper left')\n",
    "plt.title('Training and Validaion Loss')\n",
    "plt.show()"
   ]
  },
  {
   "cell_type": "code",
   "execution_count": 12,
   "id": "244ffa9f",
   "metadata": {},
   "outputs": [
    {
     "name": "stdout",
     "output_type": "stream",
     "text": [
      "\u001b[1m1/1\u001b[0m \u001b[32m━━━━━━━━━━━━━━━━━━━━\u001b[0m\u001b[37m\u001b[0m \u001b[1m0s\u001b[0m 249ms/step\n",
      "[[3 0 0 0]\n",
      " [0 3 0 0]\n",
      " [0 0 1 0]\n",
      " [0 0 0 3]]\n",
      "              precision    recall  f1-score   support\n",
      "\n",
      "           0       1.00      1.00      1.00         3\n",
      "           1       1.00      1.00      1.00         3\n",
      "           2       1.00      1.00      1.00         1\n",
      "           3       1.00      1.00      1.00         3\n",
      "\n",
      "    accuracy                           1.00        10\n",
      "   macro avg       1.00      1.00      1.00        10\n",
      "weighted avg       1.00      1.00      1.00        10\n",
      "\n"
     ]
    }
   ],
   "source": [
    "y_pred_proba = model.predict(X_test)\n",
    "y_pred = np.argmax(y_pred_proba, axis=1)\n",
    "\n",
    "target_names = [str(label) for label in encoder.classes_]\n",
    "\n",
    "print(confusion_matrix(y_test, y_pred))\n",
    "print(classification_report(y_test, y_pred, target_names=target_names))"
   ]
  },
  {
   "cell_type": "code",
   "execution_count": 13,
   "id": "eed0e573",
   "metadata": {},
   "outputs": [],
   "source": [
    "def predict_intent(text):\n",
    "    text = text.lower()\n",
    "    seq = tokenizer.texts_to_sequences([text])\n",
    "    padded = pad_sequences(seq, maxlen=max_len, padding='post')\n",
    "    pred = model.predict(padded)\n",
    "    class_id = np.argmax(pred, axis=1)[0]\n",
    "    intent_label = label_encoder.inverse_transform([class_id])[0]\n",
    "    return intent_label"
   ]
  },
  {
   "cell_type": "code",
   "execution_count": 14,
   "id": "07139f80",
   "metadata": {},
   "outputs": [
    {
     "name": "stdout",
     "output_type": "stream",
     "text": [
      "\u001b[1m1/1\u001b[0m \u001b[32m━━━━━━━━━━━━━━━━━━━━\u001b[0m\u001b[37m\u001b[0m \u001b[1m0s\u001b[0m 258ms/step\n",
      "Teks: berikan data mengani anak di sekolah\n",
      "Prediksi intent: search_data\n"
     ]
    }
   ],
   "source": [
    "text_input = \"berikan data mengani anak di sekolah\"\n",
    "predicted_intent = predict_intent(text_input)\n",
    "\n",
    "print(f\"Teks: {text_input}\")\n",
    "print(f\"Prediksi intent: {predicted_intent}\")"
   ]
  },
  {
   "cell_type": "markdown",
   "id": "a604a78c",
   "metadata": {},
   "source": [
    "# Model Save"
   ]
  },
  {
   "cell_type": "code",
   "execution_count": 15,
   "id": "3aecaa35",
   "metadata": {},
   "outputs": [],
   "source": [
    "model.save(\"intent.keras\")"
   ]
  }
 ],
 "metadata": {
  "kernelspec": {
   "display_name": "base",
   "language": "python",
   "name": "python3"
  },
  "language_info": {
   "codemirror_mode": {
    "name": "ipython",
    "version": 3
   },
   "file_extension": ".py",
   "mimetype": "text/x-python",
   "name": "python",
   "nbconvert_exporter": "python",
   "pygments_lexer": "ipython3",
   "version": "3.12.7"
  }
 },
 "nbformat": 4,
 "nbformat_minor": 5
}
